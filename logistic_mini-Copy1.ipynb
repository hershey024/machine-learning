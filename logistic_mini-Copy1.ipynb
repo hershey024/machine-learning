{
 "cells": [
  {
   "cell_type": "code",
   "execution_count": 174,
   "metadata": {},
   "outputs": [
    {
     "name": "stdout",
     "output_type": "stream",
     "text": [
      "(79, 2) (20, 2)\n",
      "(79,) (20,)\n",
      "(99, 2)\n",
      "(99, 1)\n"
     ]
    },
    {
     "data": {
      "image/png": "[encoded data removed]",
      "text/plain": [
       "<Figure size 432x288 with 1 Axes>"
      ]
     },
     "metadata": {
      "needs_background": "light"
     },
     "output_type": "display_data"
    }
   ],
   "source": [
    "import pandas as pd\n",
    "import matplotlib.pyplot as plt\n",
    "import os \n",
    "import numpy as np\n",
    "import random\n",
    "%matplotlib inline\n",
    "\n",
    "dfx= pd.read_csv(r'C:\\Users\\hershey\\Desktop\\ML\\logistic\\logisticX.csv.txt')\n",
    "dfy= pd.read_csv(r'C:\\Users\\hershey\\Desktop\\ML\\logistic\\logisticY.csv.txt')\n",
    "X= dfx.values \n",
    "Y= dfy.values\n",
    "\n",
    "split = int(0.8*X.shape[0])\n",
    "X_train = X[:split,:]\n",
    "X_test = X[split:,:]\n",
    "\n",
    "Y_train = Y[:split,-1]\n",
    "Y_test  = Y[split:,-1]\n",
    "\n",
    "print(X_train.shape,X_test.shape)\n",
    "print(Y_train.shape,Y_test.shape)\n",
    "\n",
    "print(X.shape)\n",
    "print(Y.shape)\n",
    "plt.scatter(X[:,0],X[:,1])\n",
    "plt.show()"
   ]
  },
  {
   "cell_type": "code",
   "execution_count": 175,
   "metadata": {},
   "outputs": [],
   "source": [
    "def hypothesis(x,w,b):\n",
    "    h= np.dot(x,w)+b\n",
    "    return sigmoid(h)\n"
   ]
  },
  {
   "cell_type": "code",
   "execution_count": 176,
   "metadata": {},
   "outputs": [],
   "source": [
    "def sigmoid(z):\n",
    "    return 1.0/(1.0 + np.exp(-1.0*z))\n"
   ]
  },
  {
   "cell_type": "code",
   "execution_count": 177,
   "metadata": {},
   "outputs": [],
   "source": [
    "def error(y_true,x,w,b):\n",
    "    m= X_train.shape[0]\n",
    "    err=0.0\n",
    "    for i in range (m):\n",
    "            hx= hypothesis(x[i],w,b)\n",
    "            err+= y_true[i]*np.log2(hx) + (1-y_true[i])*np.log2(1-hx)\n",
    "    return -err/m\n"
   ]
  },
  {
   "cell_type": "code",
   "execution_count": 178,
   "metadata": {},
   "outputs": [],
   "source": [
    "def get_grads(y_true,x,w,b):\n",
    "    \n",
    "    m= X_train.shape[0]\n",
    "    grad_w=np.zeros(w.shape)\n",
    "    grad_b=0.0\n",
    "    for i in range (m):\n",
    "        hx= hypothesis(X[i],w,b)\n",
    "            \n",
    "        grad_w+=-1*(y_true[i]-hx)*X[i]\n",
    "        grad_b+=-1*(y_true[i]-hx)\n",
    "              \n",
    "    grad_w/=m      \n",
    "    grad_b/=m\n",
    "    return [grad_w,grad_b]\n",
    "    "
   ]
  },
  {
   "cell_type": "code",
   "execution_count": 179,
   "metadata": {},
   "outputs": [],
   "source": [
    "def grad_ascent(x,y_true,w,b,learning_rate=0.1):\n",
    "    err= error(y_true,x,w,b)\n",
    "    [grad_w,grad_b]= get_grads(y_true,x,w,b)\n",
    "    w=w+learning_rate*grad_w\n",
    "    b=b+learning_rate*grad_b\n",
    "    \n",
    "    return err,w,b\n",
    "    \n",
    "def predict(x,w,b):\n",
    "    \n",
    "    confidence = hypothesis(x,w,b)\n",
    "    if confidence<0.5:\n",
    "        return 0\n",
    "    else:\n",
    "        return 1\n",
    "    \n",
    "def get_acc(x_tst,y_tst,w,b):\n",
    "    \n",
    "    y_pred = []\n",
    "    \n",
    "    for i in range(y_tst.shape[0]):\n",
    "        p = predict(x_tst[i],w,b)\n",
    "        y_pred.append(p)\n",
    "        \n",
    "    y_pred = np.array(y_pred)\n",
    "    \n",
    "    return  float((y_pred==y_tst).sum())/y_tst.shape[0]    "
   ]
  },
  {
   "cell_type": "code",
   "execution_count": 180,
   "metadata": {},
   "outputs": [
    {
     "name": "stderr",
     "output_type": "stream",
     "text": [
      "C:\\Users\\hershey\\Anaconda3\\lib\\site-packages\\ipykernel_launcher.py:6: RuntimeWarning: divide by zero encountered in log2\n",
      "  \n",
      "C:\\Users\\hershey\\Anaconda3\\lib\\site-packages\\ipykernel_launcher.py:6: RuntimeWarning: invalid value encountered in multiply\n",
      "  \n"
     ]
    }
   ],
   "source": [
    "loss=[]\n",
    "acc=[]\n",
    "w= 2*np.random.random((X.shape[1],))\n",
    "b= 5*np.random.random()\n",
    "\n",
    "for i in range(79):\n",
    "    l,w,b = grad_ascent(X_train,Y_train,w,b,learning_rate=0.1)\n",
    "    acc.append(get_acc(X_test,Y_test,w,b))\n",
    "    loss.append(l)"
   ]
  },
  {
   "cell_type": "code",
   "execution_count": 181,
   "metadata": {},
   "outputs": [
    {
     "data": {
      "image/png": "[encoded data removed]",
      "text/plain": [
       "<Figure size 432x288 with 1 Axes>"
      ]
     },
     "metadata": {
      "needs_background": "light"
     },
     "output_type": "display_data"
    }
   ],
   "source": [
    "plt.plot(loss)\n",
    "plt.ylabel(\"Negative of Log Likelihood\")\n",
    "plt.xlabel(\"Time\")\n",
    "plt.show()"
   ]
  },
  {
   "cell_type": "code",
   "execution_count": null,
   "metadata": {},
   "outputs": [],
   "source": []
  },
  {
   "cell_type": "code",
   "execution_count": null,
   "metadata": {},
   "outputs": [],
   "source": []
  }
 ],
 "metadata": {
  "kernelspec": {
   "display_name": "Python 3",
   "language": "python",
   "name": "python3"
  },
  "language_info": {
   "codemirror_mode": {
    "name": "ipython",
    "version": 3
   },
   "file_extension": ".py",
   "mimetype": "text/x-python",
   "name": "python",
   "nbconvert_exporter": "python",
   "pygments_lexer": "ipython3",
   "version": "3.7.0"
  }
 },
 "nbformat": 4,
 "nbformat_minor": 2
}
