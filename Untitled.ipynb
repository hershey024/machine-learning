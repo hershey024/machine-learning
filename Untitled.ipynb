{
 "cells": [
  {
   "cell_type": "code",
   "execution_count": 29,
   "metadata": {
    "scrolled": false
   },
   "outputs": [
    {
     "name": "stdout",
     "output_type": "stream",
     "text": [
      "C:\\Users\\hershey\\Desktop\\ML\\airquality\n",
      "(1600, 5)\n",
      "(1600,)\n"
     ]
    },
    {
     "ename": "TypeError",
     "evalue": "'NoneType' object is not subscriptable",
     "output_type": "error",
     "traceback": [
      "\u001b[1;31m---------------------------------------------------------------------------\u001b[0m",
      "\u001b[1;31mTypeError\u001b[0m                                 Traceback (most recent call last)",
      "\u001b[1;32m<ipython-input-29-6f1bccc71c5d>\u001b[0m in \u001b[0;36m<module>\u001b[1;34m()\u001b[0m\n\u001b[0;32m     67\u001b[0m     \u001b[1;32mreturn\u001b[0m \u001b[0mtheta\u001b[0m\u001b[1;33m\u001b[0m\u001b[0m\n\u001b[0;32m     68\u001b[0m \u001b[1;33m\u001b[0m\u001b[0m\n\u001b[1;32m---> 69\u001b[1;33m \u001b[0mtheta\u001b[0m\u001b[1;33m=\u001b[0m \u001b[0mgradientdescent\u001b[0m\u001b[1;33m(\u001b[0m\u001b[0mX\u001b[0m\u001b[1;33m,\u001b[0m\u001b[0mY\u001b[0m\u001b[1;33m,\u001b[0m\u001b[0mlearning_rate\u001b[0m\u001b[1;33m=\u001b[0m\u001b[1;36m0.01\u001b[0m\u001b[1;33m,\u001b[0m\u001b[0mmaxitr\u001b[0m\u001b[1;33m=\u001b[0m\u001b[1;36m100\u001b[0m\u001b[1;33m)\u001b[0m\u001b[1;33m\u001b[0m\u001b[0m\n\u001b[0m",
      "\u001b[1;32m<ipython-input-29-6f1bccc71c5d>\u001b[0m in \u001b[0;36mgradientdescent\u001b[1;34m(X, Y, learning_rate, maxitr)\u001b[0m\n\u001b[0;32m     58\u001b[0m         \u001b[0mgrad\u001b[0m\u001b[1;33m=\u001b[0m\u001b[0mgradient\u001b[0m\u001b[1;33m(\u001b[0m\u001b[0mX\u001b[0m\u001b[1;33m,\u001b[0m\u001b[0mY\u001b[0m\u001b[1;33m,\u001b[0m\u001b[0mtheta\u001b[0m\u001b[1;33m)\u001b[0m\u001b[1;33m\u001b[0m\u001b[0m\n\u001b[0;32m     59\u001b[0m \u001b[1;33m\u001b[0m\u001b[0m\n\u001b[1;32m---> 60\u001b[1;33m         \u001b[0mtheta\u001b[0m\u001b[1;33m[\u001b[0m\u001b[1;36m0\u001b[0m\u001b[1;33m]\u001b[0m\u001b[1;33m=\u001b[0m\u001b[0mtheta\u001b[0m\u001b[1;33m[\u001b[0m\u001b[1;36m0\u001b[0m\u001b[1;33m]\u001b[0m\u001b[1;33m-\u001b[0m\u001b[0mlearning_rate\u001b[0m\u001b[1;33m*\u001b[0m\u001b[0mgrad\u001b[0m\u001b[1;33m[\u001b[0m\u001b[1;36m0\u001b[0m\u001b[1;33m]\u001b[0m\u001b[1;33m\u001b[0m\u001b[0m\n\u001b[0m\u001b[0;32m     61\u001b[0m         \u001b[0mtheta\u001b[0m\u001b[1;33m[\u001b[0m\u001b[1;36m1\u001b[0m\u001b[1;33m]\u001b[0m\u001b[1;33m=\u001b[0m\u001b[0mtheta\u001b[0m\u001b[1;33m[\u001b[0m\u001b[1;36m1\u001b[0m\u001b[1;33m]\u001b[0m\u001b[1;33m-\u001b[0m\u001b[0mlearning_rate\u001b[0m\u001b[1;33m*\u001b[0m\u001b[0mgrad\u001b[0m\u001b[1;33m[\u001b[0m\u001b[1;36m1\u001b[0m\u001b[1;33m]\u001b[0m\u001b[1;33m\u001b[0m\u001b[0m\n\u001b[0;32m     62\u001b[0m         \u001b[0mtheta\u001b[0m\u001b[1;33m[\u001b[0m\u001b[1;36m2\u001b[0m\u001b[1;33m]\u001b[0m\u001b[1;33m=\u001b[0m\u001b[0mtheta\u001b[0m\u001b[1;33m[\u001b[0m\u001b[1;36m2\u001b[0m\u001b[1;33m]\u001b[0m\u001b[1;33m-\u001b[0m\u001b[0mlearning_rate\u001b[0m\u001b[1;33m*\u001b[0m\u001b[0mgrad\u001b[0m\u001b[1;33m[\u001b[0m\u001b[1;36m2\u001b[0m\u001b[1;33m]\u001b[0m\u001b[1;33m\u001b[0m\u001b[0m\n",
      "\u001b[1;31mTypeError\u001b[0m: 'NoneType' object is not subscriptable"
     ]
    }
   ],
   "source": [
    "import numpy as np\n",
    "import pandas as pd\n",
    "import matplotlib.pyplot as plt\n",
    "import os\n",
    "import csv\n",
    "\n",
    "print(os.getcwd())\n",
    "train_data = pd.read_csv(r'C:\\Users\\hershey\\Desktop\\ML\\airquality\\Train.csv.txt')\n",
    "test_data = pd.read_csv(r'C:\\Users\\hershey\\Desktop\\ML\\airquality\\Test.csv.txt')\n",
    "train= train_data.values\n",
    "test= test_data.values\n",
    "x= train[:,:5]   #training data\n",
    "y= train[:,5]    #training data target\n",
    "xt= test[:,:5]   #test data\n",
    "yt= test[:,5]    #test data target\n",
    "\n",
    "np.asfarray(x)\n",
    "np.asfarray(y)\n",
    "\n",
    "print(x.shape)\n",
    "print(y.shape)\n",
    "\n",
    "#Normalization\n",
    "x= x-x.mean()/(x.std())\n",
    "X= x\n",
    "Y= y\n",
    "\n",
    "ones = np.ones([X.shape[0],1])\n",
    "X = np.concatenate((ones,X),axis=1)\n",
    "\n",
    "def hypothesis(theta,X):\n",
    "    return (theta[0]+theta[1]*X[0]+theta[2]*X[1]+theta[3]*X[2]+theta[4]*X[3]+theta[5]*X[4])\n",
    "\n",
    "def error(X,y,theta):\n",
    "    total_error=0\n",
    "    m=X.shape[0]\n",
    "    for i in range (m):\n",
    "        total_error+=0.5*((Y[i]-hypothesis(theta,X[i]))**2)\n",
    "                      \n",
    "    return total_error\n",
    "                      \n",
    "def gradient(X,Y,theta):\n",
    "    grad= np.array([0.0,0.0,0.0,0.0,0.0,0.0])\n",
    "    m=X.shape[0]\n",
    "    for i in range(m):           \n",
    "        grad[0]+=(Y[i]-hypothesis(theta,X[i])) \n",
    "        grad[1]+=(Y[i]-hypothesis(theta,X[i]))*X[i][1]\n",
    "        grad[2]+=(Y[i]-hypothesis(theta,X[i]))*X[i][2]          \n",
    "        grad[3]+=(Y[i]-hypothesis(theta,X[i]))*X[i][3]      \n",
    "        grad[4]+=(Y[i]-hypothesis(theta,X[i]))*X[i][4]\n",
    "        grad[5]+=(Y[i]-hypothesis(theta,X[i]))*X[i][5]\n",
    "                                                                   \n",
    "def gradientdescent(X,Y,learning_rate,maxitr):\n",
    "    grad= np.array([0.0,0.0,0.0,0.0,0.0,0.0])\n",
    "    theta= np.array([0.0,0.0,0.0,0.0,0.0,0.0])\n",
    "     \n",
    "    for i in range(maxitr):\n",
    "        grad=gradient(X,Y,theta)\n",
    "    \n",
    "        theta[0]=theta[0]-learning_rate*grad[0]\n",
    "        theta[1]=theta[1]-learning_rate*grad[1]\n",
    "        theta[2]=theta[2]-learning_rate*grad[2]\n",
    "        theta[3]=theta[3]-learning_rate*grad[3]      \n",
    "        theta[4]=theta[4]-learning_rate*grad[4]      \n",
    "        theta[5]=theta[5]-learning_rate*grad[5] \n",
    "                      \n",
    "    return theta \n",
    "                      \n",
    "theta= gradientdescent(X,Y,learning_rate=0.01,maxitr=100)                     "
   ]
  },
  {
   "cell_type": "code",
   "execution_count": null,
   "metadata": {},
   "outputs": [],
   "source": []
  },
  {
   "cell_type": "code",
   "execution_count": null,
   "metadata": {},
   "outputs": [],
   "source": []
  }
 ],
 "metadata": {
  "kernelspec": {
   "display_name": "Python 3",
   "language": "python",
   "name": "python3"
  },
  "language_info": {
   "codemirror_mode": {
    "name": "ipython",
    "version": 3
   },
   "file_extension": ".py",
   "mimetype": "text/x-python",
   "name": "python",
   "nbconvert_exporter": "python",
   "pygments_lexer": "ipython3",
   "version": "3.7.0"
  }
 },
 "nbformat": 4,
 "nbformat_minor": 2
}
